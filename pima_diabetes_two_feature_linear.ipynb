{
  "cells": [
    {
      "attachments": {},
      "cell_type": "markdown",
      "metadata": {
        "id": "wL2aJmOk3UKJ"
      },
      "source": [
        "### 1. Title: Pima Indians Diabetes Database\n",
        "\n",
        "2. Sources:\n",
        "   (a) Original owners: National Institute of Diabetes and Digestive and\n",
        "                        Kidney Diseases\n",
        "   (b) Donor of database: Vincent Sigillito (vgs@aplcen.apl.jhu.edu)\n",
        "                          Research Center, RMI Group Leader\n",
        "                          Applied Physics Laboratory\n",
        "                          The Johns Hopkins University\n",
        "                          Johns Hopkins Road\n",
        "                          Laurel, MD 20707\n",
        "                          (301) 953-6231\n",
        "   (c) Date received: 9 May 1990\n",
        "\n",
        "3. Past Usage:\n",
        "    1. Smith,~J.~W., Everhart,~J.~E., Dickson,~W.~C., Knowler,~W.~C., \\&\n",
        "       Johannes,~R.~S. (1988). Using the ADAP learning algorithm to forecast\n",
        "       the onset of diabetes mellitus.  In {\\it Proceedings of the Symposium\n",
        "       on Computer Applications and Medical Care} (pp. 261--265).  IEEE\n",
        "       Computer Society Press.\n",
        "\n",
        "       The diagnostic, binary-valued variable investigated is whether the\n",
        "       patient shows signs of diabetes according to World Health Organization\n",
        "       criteria (i.e., if the 2 hour post-load plasma glucose was at least\n",
        "       200 mg/dl at any survey  examination or if found during routine medical\n",
        "       care).   The population lives near Phoenix, Arizona, USA.\n",
        "\n",
        "       Results: Their ADAP algorithm makes a real-valued prediction between\n",
        "       0 and 1.  This was transformed into a binary decision using a cutoff of\n",
        "       0.448.  Using 576 training instances, the sensitivity and specificity\n",
        "       of their algorithm was 76% on the remaining 192 instances.\n",
        "\n",
        "4. Relevant Information:\n",
        "      Several constraints were placed on the selection of these instances from\n",
        "      a larger database.  In particular, all patients here are females at\n",
        "      least 21 years old of Pima Indian heritage.  ADAP is an adaptive learning\n",
        "      routine that generates and executes digital analogs of perceptron-like\n",
        "      devices.  It is a unique algorithm; see the paper for details.\n",
        "\n",
        "5. Number of Instances: 768\n",
        "\n",
        "6. Number of Attributes: 8 plus class\n",
        "\n",
        "7. For Each Attribute: (all numeric-valued)\n",
        "   1. Number of times pregnant\n",
        "   2. Plasma glucose concentration a 2 hours in an oral glucose tolerance test\n",
        "   3. Diastolic blood pressure (mm Hg)\n",
        "   4. Triceps skin fold thickness (mm)\n",
        "   5. 2-Hour serum insulin (mu U/ml)\n",
        "   6. Body mass index (weight in kg/(height in m)^2)\n",
        "   7. Diabetes pedigree function\n",
        "   8. Age (years)\n",
        "   9. Class variable (0 or 1)\n",
        "\n",
        "8. Missing Attribute Values: Yes\n",
        "\n",
        "9. Class Distribution: (class value 1 is interpreted as \"tested positive for\n",
        "   diabetes\")\n",
        "\n",
        "   Class Value  Number of instances\n",
        "   0            500\n",
        "   1            268\n",
        "\n",
        "\n"
      ]
    },
    {
      "cell_type": "code",
      "execution_count": 1,
      "metadata": {
        "id": "2ZIUX3xi3UKL"
      },
      "outputs": [
        {
          "name": "stderr",
          "output_type": "stream",
          "text": [
            "2023-06-16 11:20:28.943124: I tensorflow/core/platform/cpu_feature_guard.cc:193] This TensorFlow binary is optimized with oneAPI Deep Neural Network Library (oneDNN) to use the following CPU instructions in performance-critical operations:  AVX2 AVX512F AVX512_VNNI FMA\n",
            "To enable them in other operations, rebuild TensorFlow with the appropriate compiler flags.\n",
            "2023-06-16 11:20:29.270000: I tensorflow/core/util/port.cc:104] oneDNN custom operations are on. You may see slightly different numerical results due to floating-point round-off errors from different computation orders. To turn them off, set the environment variable `TF_ENABLE_ONEDNN_OPTS=0`.\n",
            "2023-06-16 11:20:29.309964: W tensorflow/compiler/xla/stream_executor/platform/default/dso_loader.cc:64] Could not load dynamic library 'libcudart.so.11.0'; dlerror: libcudart.so.11.0: cannot open shared object file: No such file or directory\n",
            "2023-06-16 11:20:29.309991: I tensorflow/compiler/xla/stream_executor/cuda/cudart_stub.cc:29] Ignore above cudart dlerror if you do not have a GPU set up on your machine.\n",
            "2023-06-16 11:20:30.295372: W tensorflow/compiler/xla/stream_executor/platform/default/dso_loader.cc:64] Could not load dynamic library 'libnvinfer.so.7'; dlerror: libnvinfer.so.7: cannot open shared object file: No such file or directory\n",
            "2023-06-16 11:20:30.295534: W tensorflow/compiler/xla/stream_executor/platform/default/dso_loader.cc:64] Could not load dynamic library 'libnvinfer_plugin.so.7'; dlerror: libnvinfer_plugin.so.7: cannot open shared object file: No such file or directory\n",
            "2023-06-16 11:20:30.295545: W tensorflow/compiler/tf2tensorrt/utils/py_utils.cc:38] TF-TRT Warning: Cannot dlopen some TensorRT libraries. If you would like to use Nvidia GPU with TensorRT, please make sure the missing libraries mentioned above are installed properly.\n"
          ]
        }
      ],
      "source": [
        "import pandas as pd\n",
        "import seaborn as sns\n",
        "import matplotlib.pyplot as plt\n",
        "from  sklearn.model_selection import train_test_split\n",
        "from sklearn.linear_model import LogisticRegression\n",
        "from sklearn.decomposition import PCA\n",
        "import numpy as np\n",
        "import matplotlib.gridspec as gridspec\n",
        "from sklearn.preprocessing import StandardScaler\n",
        "%matplotlib inline\n",
        "from keras.losses import binary_crossentropy\n",
        "\n",
        "from sklearn.metrics import accuracy_score,confusion_matrix,f1_score,recall_score,precision_recall_curve,precision_score,classification_report"
      ]
    },
    {
      "cell_type": "code",
      "execution_count": 2,
      "metadata": {
        "id": "tFqqEMHZ3UKN"
      },
      "outputs": [],
      "source": [
        "df=pd.read_csv('pima_diabates.txt',usecols=['Plasma glucose concentration','Body mass index (weight in kg/(height in m)^2)','target'])"
      ]
    },
    {
      "cell_type": "code",
      "execution_count": 3,
      "metadata": {
        "colab": {
          "base_uri": "https://localhost:8080/",
          "height": 424
        },
        "id": "_FBktVp13UKN",
        "outputId": "3ab8c356-f392-4f78-ec5b-92546e5fc531"
      },
      "outputs": [
        {
          "data": {
            "text/html": [
              "<div>\n",
              "<style scoped>\n",
              "    .dataframe tbody tr th:only-of-type {\n",
              "        vertical-align: middle;\n",
              "    }\n",
              "\n",
              "    .dataframe tbody tr th {\n",
              "        vertical-align: top;\n",
              "    }\n",
              "\n",
              "    .dataframe thead th {\n",
              "        text-align: right;\n",
              "    }\n",
              "</style>\n",
              "<table border=\"1\" class=\"dataframe\">\n",
              "  <thead>\n",
              "    <tr style=\"text-align: right;\">\n",
              "      <th></th>\n",
              "      <th>Plasma glucose concentration</th>\n",
              "      <th>Body mass index (weight in kg/(height in m)^2)</th>\n",
              "      <th>target</th>\n",
              "    </tr>\n",
              "  </thead>\n",
              "  <tbody>\n",
              "    <tr>\n",
              "      <th>0</th>\n",
              "      <td>148</td>\n",
              "      <td>33.6</td>\n",
              "      <td>1</td>\n",
              "    </tr>\n",
              "    <tr>\n",
              "      <th>1</th>\n",
              "      <td>85</td>\n",
              "      <td>26.6</td>\n",
              "      <td>0</td>\n",
              "    </tr>\n",
              "    <tr>\n",
              "      <th>2</th>\n",
              "      <td>183</td>\n",
              "      <td>23.3</td>\n",
              "      <td>1</td>\n",
              "    </tr>\n",
              "    <tr>\n",
              "      <th>3</th>\n",
              "      <td>89</td>\n",
              "      <td>28.1</td>\n",
              "      <td>0</td>\n",
              "    </tr>\n",
              "    <tr>\n",
              "      <th>4</th>\n",
              "      <td>137</td>\n",
              "      <td>43.1</td>\n",
              "      <td>1</td>\n",
              "    </tr>\n",
              "    <tr>\n",
              "      <th>...</th>\n",
              "      <td>...</td>\n",
              "      <td>...</td>\n",
              "      <td>...</td>\n",
              "    </tr>\n",
              "    <tr>\n",
              "      <th>763</th>\n",
              "      <td>101</td>\n",
              "      <td>32.9</td>\n",
              "      <td>0</td>\n",
              "    </tr>\n",
              "    <tr>\n",
              "      <th>764</th>\n",
              "      <td>122</td>\n",
              "      <td>36.8</td>\n",
              "      <td>0</td>\n",
              "    </tr>\n",
              "    <tr>\n",
              "      <th>765</th>\n",
              "      <td>121</td>\n",
              "      <td>26.2</td>\n",
              "      <td>0</td>\n",
              "    </tr>\n",
              "    <tr>\n",
              "      <th>766</th>\n",
              "      <td>126</td>\n",
              "      <td>30.1</td>\n",
              "      <td>1</td>\n",
              "    </tr>\n",
              "    <tr>\n",
              "      <th>767</th>\n",
              "      <td>93</td>\n",
              "      <td>30.4</td>\n",
              "      <td>0</td>\n",
              "    </tr>\n",
              "  </tbody>\n",
              "</table>\n",
              "<p>768 rows × 3 columns</p>\n",
              "</div>"
            ],
            "text/plain": [
              "     Plasma glucose concentration  \\\n",
              "0                             148   \n",
              "1                              85   \n",
              "2                             183   \n",
              "3                              89   \n",
              "4                             137   \n",
              "..                            ...   \n",
              "763                           101   \n",
              "764                           122   \n",
              "765                           121   \n",
              "766                           126   \n",
              "767                            93   \n",
              "\n",
              "     Body mass index (weight in kg/(height in m)^2)  target  \n",
              "0                                              33.6       1  \n",
              "1                                              26.6       0  \n",
              "2                                              23.3       1  \n",
              "3                                              28.1       0  \n",
              "4                                              43.1       1  \n",
              "..                                              ...     ...  \n",
              "763                                            32.9       0  \n",
              "764                                            36.8       0  \n",
              "765                                            26.2       0  \n",
              "766                                            30.1       1  \n",
              "767                                            30.4       0  \n",
              "\n",
              "[768 rows x 3 columns]"
            ]
          },
          "execution_count": 3,
          "metadata": {},
          "output_type": "execute_result"
        }
      ],
      "source": [
        "df"
      ]
    },
    {
      "cell_type": "code",
      "execution_count": 4,
      "metadata": {
        "colab": {
          "base_uri": "https://localhost:8080/"
        },
        "id": "9-8aiiRm5moR",
        "outputId": "71feee59-db6a-477f-aa36-2d3d2530973a"
      },
      "outputs": [
        {
          "name": "stdout",
          "output_type": "stream",
          "text": [
            "<class 'pandas.core.frame.DataFrame'>\n",
            "RangeIndex: 768 entries, 0 to 767\n",
            "Data columns (total 3 columns):\n",
            " #   Column                                          Non-Null Count  Dtype  \n",
            "---  ------                                          --------------  -----  \n",
            " 0   Plasma glucose concentration                    768 non-null    int64  \n",
            " 1   Body mass index (weight in kg/(height in m)^2)  768 non-null    float64\n",
            " 2   target                                          768 non-null    int64  \n",
            "dtypes: float64(1), int64(2)\n",
            "memory usage: 18.1 KB\n"
          ]
        }
      ],
      "source": [
        "df.info()"
      ]
    },
    {
      "cell_type": "code",
      "execution_count": 5,
      "metadata": {
        "colab": {
          "base_uri": "https://localhost:8080/",
          "height": 300
        },
        "id": "s039fUAZ3UKN",
        "outputId": "17d12023-26d1-4bc2-aacf-0fd83c2b2f5f"
      },
      "outputs": [
        {
          "data": {
            "text/html": [
              "<div>\n",
              "<style scoped>\n",
              "    .dataframe tbody tr th:only-of-type {\n",
              "        vertical-align: middle;\n",
              "    }\n",
              "\n",
              "    .dataframe tbody tr th {\n",
              "        vertical-align: top;\n",
              "    }\n",
              "\n",
              "    .dataframe thead th {\n",
              "        text-align: right;\n",
              "    }\n",
              "</style>\n",
              "<table border=\"1\" class=\"dataframe\">\n",
              "  <thead>\n",
              "    <tr style=\"text-align: right;\">\n",
              "      <th></th>\n",
              "      <th>Plasma glucose concentration</th>\n",
              "      <th>Body mass index (weight in kg/(height in m)^2)</th>\n",
              "      <th>target</th>\n",
              "    </tr>\n",
              "  </thead>\n",
              "  <tbody>\n",
              "    <tr>\n",
              "      <th>count</th>\n",
              "      <td>768.000000</td>\n",
              "      <td>768.000000</td>\n",
              "      <td>768.000000</td>\n",
              "    </tr>\n",
              "    <tr>\n",
              "      <th>mean</th>\n",
              "      <td>120.894531</td>\n",
              "      <td>31.992578</td>\n",
              "      <td>0.348958</td>\n",
              "    </tr>\n",
              "    <tr>\n",
              "      <th>std</th>\n",
              "      <td>31.972618</td>\n",
              "      <td>7.884160</td>\n",
              "      <td>0.476951</td>\n",
              "    </tr>\n",
              "    <tr>\n",
              "      <th>min</th>\n",
              "      <td>0.000000</td>\n",
              "      <td>0.000000</td>\n",
              "      <td>0.000000</td>\n",
              "    </tr>\n",
              "    <tr>\n",
              "      <th>25%</th>\n",
              "      <td>99.000000</td>\n",
              "      <td>27.300000</td>\n",
              "      <td>0.000000</td>\n",
              "    </tr>\n",
              "    <tr>\n",
              "      <th>50%</th>\n",
              "      <td>117.000000</td>\n",
              "      <td>32.000000</td>\n",
              "      <td>0.000000</td>\n",
              "    </tr>\n",
              "    <tr>\n",
              "      <th>75%</th>\n",
              "      <td>140.250000</td>\n",
              "      <td>36.600000</td>\n",
              "      <td>1.000000</td>\n",
              "    </tr>\n",
              "    <tr>\n",
              "      <th>max</th>\n",
              "      <td>199.000000</td>\n",
              "      <td>67.100000</td>\n",
              "      <td>1.000000</td>\n",
              "    </tr>\n",
              "  </tbody>\n",
              "</table>\n",
              "</div>"
            ],
            "text/plain": [
              "       Plasma glucose concentration  \\\n",
              "count                    768.000000   \n",
              "mean                     120.894531   \n",
              "std                       31.972618   \n",
              "min                        0.000000   \n",
              "25%                       99.000000   \n",
              "50%                      117.000000   \n",
              "75%                      140.250000   \n",
              "max                      199.000000   \n",
              "\n",
              "       Body mass index (weight in kg/(height in m)^2)      target  \n",
              "count                                      768.000000  768.000000  \n",
              "mean                                        31.992578    0.348958  \n",
              "std                                          7.884160    0.476951  \n",
              "min                                          0.000000    0.000000  \n",
              "25%                                         27.300000    0.000000  \n",
              "50%                                         32.000000    0.000000  \n",
              "75%                                         36.600000    1.000000  \n",
              "max                                         67.100000    1.000000  "
            ]
          },
          "execution_count": 5,
          "metadata": {},
          "output_type": "execute_result"
        }
      ],
      "source": [
        "df.describe()"
      ]
    },
    {
      "attachments": {},
      "cell_type": "markdown",
      "metadata": {
        "id": "p-LxMneN4eD0"
      },
      "source": [
        "### Data Preprocessing and Filter"
      ]
    },
    {
      "cell_type": "code",
      "execution_count": 6,
      "metadata": {
        "colab": {
          "base_uri": "https://localhost:8080/"
        },
        "id": "iaQXT7s63UKO",
        "outputId": "846b925d-51a1-4244-b630-d94a203b86e6"
      },
      "outputs": [
        {
          "data": {
            "text/plain": [
              "Plasma glucose concentration                      0\n",
              "Body mass index (weight in kg/(height in m)^2)    0\n",
              "target                                            0\n",
              "dtype: int64"
            ]
          },
          "execution_count": 6,
          "metadata": {},
          "output_type": "execute_result"
        }
      ],
      "source": [
        "df.isnull().sum()"
      ]
    },
    {
      "cell_type": "code",
      "execution_count": 7,
      "metadata": {
        "colab": {
          "base_uri": "https://localhost:8080/",
          "height": 750
        },
        "id": "VuVA88Rp3UKO",
        "outputId": "cc935f72-aad8-432c-d32b-bdfc6ca4baca"
      },
      "outputs": [
        {
          "data": {
            "image/png": "[encoded data removed]",
            "text/plain": [
              "<Figure size 640x480 with 1 Axes>"
            ]
          },
          "metadata": {},
          "output_type": "display_data"
        }
      ],
      "source": [
        "sns.boxplot(data=df)\n",
        "plt.xticks(rotation=90)\n",
        "plt.show()"
      ]
    },
    {
      "cell_type": "code",
      "execution_count": 8,
      "metadata": {
        "colab": {
          "base_uri": "https://localhost:8080/"
        },
        "id": "Ikt6nUqU5XwW",
        "outputId": "0f072efd-aeb0-4664-8e71-50e0116b8407"
      },
      "outputs": [
        {
          "data": {
            "text/plain": [
              "Index(['Plasma glucose concentration',\n",
              "       'Body mass index (weight in kg/(height in m)^2)', 'target'],\n",
              "      dtype='object')"
            ]
          },
          "execution_count": 8,
          "metadata": {},
          "output_type": "execute_result"
        }
      ],
      "source": [
        "df.columns"
      ]
    },
    {
      "cell_type": "code",
      "execution_count": 9,
      "metadata": {
        "id": "BoONBq0S3UKP"
      },
      "outputs": [],
      "source": [
        "# df1=df.loc[~((df['Diastolic blood pressure (mm Hg)']<39) | (df['Diastolic blood pressure (mm Hg)']>106) |  (df['Body mass index (weight in kg/(height in m)^2)'] < 10) | (df['Body mass index (weight in kg/(height in m)^2)'] > 55))]\n",
        "df1=df.loc[~((df['Body mass index (weight in kg/(height in m)^2)'] < 10) | (df['Body mass index (weight in kg/(height in m)^2)'] > 55) |(df['Plasma glucose concentration']<25))]"
      ]
    },
    {
      "attachments": {},
      "cell_type": "markdown",
      "metadata": {
        "id": "uRRQ0wyE7o9O"
      },
      "source": [
        "### After Removing 19 data points"
      ]
    },
    {
      "cell_type": "code",
      "execution_count": 10,
      "metadata": {
        "id": "wxbusazo3UKP"
      },
      "outputs": [],
      "source": [
        "df1.reset_index(drop=True,inplace=True)"
      ]
    },
    {
      "cell_type": "code",
      "execution_count": 11,
      "metadata": {
        "id": "ECVbZNB13UKP"
      },
      "outputs": [],
      "source": [
        "X=df1.drop('target',axis=1)\n",
        "y=df1.target"
      ]
    },
    {
      "cell_type": "code",
      "execution_count": 12,
      "metadata": {
        "id": "n1laindc9ByO"
      },
      "outputs": [],
      "source": [
        "scale=StandardScaler()\n",
        "X=scale.fit_transform(X)"
      ]
    },
    {
      "cell_type": "code",
      "execution_count": 13,
      "metadata": {
        "id": "Dfx6aG1r3UKQ"
      },
      "outputs": [],
      "source": [
        "X_train,X_test,y_train,y_test=train_test_split(X,y,test_size=0.2,random_state=42)"
      ]
    },
    {
      "cell_type": "code",
      "execution_count": 14,
      "metadata": {
        "colab": {
          "base_uri": "https://localhost:8080/",
          "height": 75
        },
        "id": "Ac5_HQgR3UKQ",
        "outputId": "7b4172b0-2b68-451d-908d-4737b6a28d97"
      },
      "outputs": [
        {
          "data": {
            "text/plain": [
              "LogisticRegression(multi_class='multinomial')"
            ]
          },
          "execution_count": 14,
          "metadata": {},
          "output_type": "execute_result"
        }
      ],
      "source": [
        "model=LogisticRegression(multi_class='multinomial')\n",
        "model.fit(X_train,y_train)"
      ]
    },
    {
      "cell_type": "code",
      "execution_count": 15,
      "metadata": {
        "colab": {
          "base_uri": "https://localhost:8080/"
        },
        "id": "jPHXBwCe3UKR",
        "outputId": "bf65093f-ebcc-437c-b0da-f3e4af1caab1"
      },
      "outputs": [
        {
          "name": "stdout",
          "output_type": "stream",
          "text": [
            "Accuracy: 0.76\n"
          ]
        }
      ],
      "source": [
        "# Make predictions on the test set\n",
        "y_pred = model.predict(X_test)\n",
        "\n",
        "# Calculate the accuracy of the model\n",
        "accuracy = accuracy_score(y_test, y_pred)\n",
        "print(\"Accuracy:\", accuracy)"
      ]
    },
    {
      "cell_type": "code",
      "execution_count": 16,
      "metadata": {
        "colab": {
          "base_uri": "https://localhost:8080/"
        },
        "id": "QF_SiUcJ3UKR",
        "outputId": "9fe37f8f-c56c-458a-bb5f-de92c61336bb"
      },
      "outputs": [
        {
          "data": {
            "text/plain": [
              "array([[86, 14],\n",
              "       [22, 28]])"
            ]
          },
          "execution_count": 16,
          "metadata": {},
          "output_type": "execute_result"
        }
      ],
      "source": [
        "confusion_matrix(y_test,y_pred)"
      ]
    },
    {
      "cell_type": "code",
      "execution_count": 17,
      "metadata": {
        "colab": {
          "base_uri": "https://localhost:8080/"
        },
        "id": "jP_n8zXa3UKR",
        "outputId": "c529772d-da40-4c5c-bbc8-158c1c9dc9ec"
      },
      "outputs": [
        {
          "data": {
            "text/plain": [
              "0.6086956521739131"
            ]
          },
          "execution_count": 17,
          "metadata": {},
          "output_type": "execute_result"
        }
      ],
      "source": [
        "f1_score(y_test,y_pred)"
      ]
    },
    {
      "cell_type": "code",
      "execution_count": 18,
      "metadata": {
        "colab": {
          "base_uri": "https://localhost:8080/",
          "height": 466
        },
        "id": "8MIke2pV3UKR",
        "outputId": "7c9f4269-370e-423a-8191-05989ec2cb44"
      },
      "outputs": [
        {
          "data": {
            "text/plain": [
              "Text(50.722222222222214, 0.5, 'predicted')"
            ]
          },
          "execution_count": 18,
          "metadata": {},
          "output_type": "execute_result"
        },
        {
          "data": {
            "image/png": "[encoded data removed]",
            "text/plain": [
              "<Figure size 640x480 with 2 Axes>"
            ]
          },
          "metadata": {},
          "output_type": "display_data"
        }
      ],
      "source": [
        "sns.heatmap(confusion_matrix(y_test,y_pred),annot=True)\n",
        "plt.xlabel('actual')\n",
        "plt.ylabel('predicted')"
      ]
    },
    {
      "cell_type": "code",
      "execution_count": 19,
      "metadata": {
        "colab": {
          "base_uri": "https://localhost:8080/"
        },
        "id": "2NSFanvK3UKR",
        "outputId": "741f646d-7b13-4eca-c2a1-ba4a21b4dd53"
      },
      "outputs": [
        {
          "data": {
            "text/plain": [
              "0.56"
            ]
          },
          "execution_count": 19,
          "metadata": {},
          "output_type": "execute_result"
        }
      ],
      "source": [
        "recall_score(y_test,y_pred)"
      ]
    },
    {
      "cell_type": "code",
      "execution_count": 20,
      "metadata": {
        "colab": {
          "base_uri": "https://localhost:8080/"
        },
        "id": "yvqmJsze3UKR",
        "outputId": "4a3f639a-eee8-4e95-e806-2190c4af850f"
      },
      "outputs": [
        {
          "data": {
            "text/plain": [
              "0.6666666666666666"
            ]
          },
          "execution_count": 20,
          "metadata": {},
          "output_type": "execute_result"
        }
      ],
      "source": [
        "precision_score(y_test,y_pred)"
      ]
    },
    {
      "cell_type": "code",
      "execution_count": 21,
      "metadata": {
        "id": "PtcliTtkED5Y"
      },
      "outputs": [],
      "source": [
        "# Generate the classification report\n",
        "report = classification_report(y_test, y_pred)"
      ]
    },
    {
      "cell_type": "code",
      "execution_count": 22,
      "metadata": {
        "colab": {
          "base_uri": "https://localhost:8080/"
        },
        "id": "TNes8wfQEZA8",
        "outputId": "e6e6baaa-c48e-4ebc-9c75-01598d261268"
      },
      "outputs": [
        {
          "name": "stdout",
          "output_type": "stream",
          "text": [
            "              precision    recall  f1-score   support\n",
            "\n",
            "           0       0.80      0.86      0.83       100\n",
            "           1       0.67      0.56      0.61        50\n",
            "\n",
            "    accuracy                           0.76       150\n",
            "   macro avg       0.73      0.71      0.72       150\n",
            "weighted avg       0.75      0.76      0.75       150\n",
            "\n"
          ]
        }
      ],
      "source": [
        "print(report)\n"
      ]
    },
    {
      "cell_type": "code",
      "execution_count": 23,
      "metadata": {
        "colab": {
          "base_uri": "https://localhost:8080/"
        },
        "id": "IdlF-fFO3UKR",
        "outputId": "57d05da7-a1cf-4fc3-e17d-273fbfe81429"
      },
      "outputs": [
        {
          "name": "stdout",
          "output_type": "stream",
          "text": [
            "Coefficients: [[0.61819243 0.30158808]]\n",
            "Intercept: [-0.38757698]\n"
          ]
        }
      ],
      "source": [
        "# Print the coefficients (parameter values) and intercept term\n",
        "print(\"Coefficients:\", model.coef_)\n",
        "print(\"Intercept:\", model.intercept_)"
      ]
    },
    {
      "attachments": {},
      "cell_type": "markdown",
      "metadata": {
        "id": "ynAcu1V-3UKR"
      },
      "source": [
        "## straight line"
      ]
    },
    {
      "cell_type": "code",
      "execution_count": 24,
      "metadata": {
        "id": "78rLqHv84AEb"
      },
      "outputs": [],
      "source": [
        "c=model.intercept_\n",
        "m1=model.coef_[0,0]\n",
        "m2=model.coef_[0,1]"
      ]
    },
    {
      "cell_type": "code",
      "execution_count": 25,
      "metadata": {
        "id": "6B8igL1f2fqQ"
      },
      "outputs": [],
      "source": [
        "# m1x1+m2x2+c=0\n",
        "def line_y(x):\n",
        "  \"\"\"\n",
        "  determining x2 features values\"\"\"\n",
        "  return -(c+m1*x)/m2"
      ]
    },
    {
      "cell_type": "code",
      "execution_count": 26,
      "metadata": {
        "id": "qxecpsga2eH2"
      },
      "outputs": [],
      "source": [
        "line_x=np.arange(X[:,0].min(),X[:,0].max(),0.1)"
      ]
    },
    {
      "cell_type": "code",
      "execution_count": 36,
      "metadata": {},
      "outputs": [],
      "source": [
        "normal=y_test[y_test==0]\n",
        "diabetic=y_test[y_test==1]"
      ]
    },
    {
      "cell_type": "code",
      "execution_count": 41,
      "metadata": {},
      "outputs": [],
      "source": [
        "df_plot=pd.DataFrame(X_test)"
      ]
    },
    {
      "cell_type": "code",
      "execution_count": 47,
      "metadata": {},
      "outputs": [],
      "source": [
        "df_plot['target']=y_test.values"
      ]
    },
    {
      "cell_type": "code",
      "execution_count": 57,
      "metadata": {},
      "outputs": [
        {
          "data": {
            "text/plain": [
              "0    100\n",
              "1     50\n",
              "Name: target, dtype: int64"
            ]
          },
          "execution_count": 57,
          "metadata": {},
          "output_type": "execute_result"
        }
      ],
      "source": [
        "df_plot['target'].value_counts()"
      ]
    },
    {
      "cell_type": "code",
      "execution_count": 65,
      "metadata": {
        "colab": {
          "base_uri": "https://localhost:8080/",
          "height": 447
        },
        "id": "2ayZC3DA8SNI",
        "outputId": "dd9abf9c-f90d-4f81-b790-5f6a6626d918"
      },
      "outputs": [
        {
          "data": {
            "image/png": "[encoded data removed]",
            "text/plain": [
              "<Figure size 1200x800 with 1 Axes>"
            ]
          },
          "metadata": {},
          "output_type": "display_data"
        }
      ],
      "source": [
        "plt.figure(figsize=(12,8))\n",
        "plt.plot(line_x,line_y(line_x))\n",
        "plt.scatter(df_plot.loc[df_plot['target']==0,0],df_plot.loc[df_plot['target']==0,1],c='g',marker='o',label='normal') # change marker\n",
        "plt.scatter(df_plot.loc[df_plot['target']==1,0],df_plot.loc[df_plot['target']==1,1],c='r',marker='x',label='diabetic')\n",
        "plt.xlabel('feature 1')\n",
        "plt.ylabel('feature 2')\n",
        "plt.title(\"Linear Decision Boundary\",fontsize=12)\n",
        "plt.legend()\n",
        "plt.show()"
      ]
    },
    {
      "cell_type": "code",
      "execution_count": null,
      "metadata": {},
      "outputs": [],
      "source": []
    }
  ],
  "metadata": {
    "colab": {
      "provenance": []
    },
    "kernelspec": {
      "display_name": "base",
      "language": "python",
      "name": "python3"
    },
    "language_info": {
      "codemirror_mode": {
        "name": "ipython",
        "version": 3
      },
      "file_extension": ".py",
      "mimetype": "text/x-python",
      "name": "python",
      "nbconvert_exporter": "python",
      "pygments_lexer": "ipython3",
      "version": "3.9.13"
    },
    "orig_nbformat": 4
  },
  "nbformat": 4,
  "nbformat_minor": 0
}
